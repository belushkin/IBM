{
    "nbformat_minor": 1, 
    "cells": [
        {
            "source": "\nimport ibmos2spark\n\n# @hidden_cell\ncredentials = {\n    'endpoint': 'https://s3-api.us-geo.objectstorage.service.networklayer.com',\n    'api_key': 'dkRewe8bWqDvG_wGkUpZZWfiK76sgOynJi2_lGtlmIOW',\n    'service_id': 'iam-ServiceId-f944cf31-4f89-489c-87b7-78cddfcaf29c',\n    'iam_service_endpoint': 'https://iam.bluemix.net/oidc/token'}\n\nconfiguration_name = 'os_8c14de1d42f947c2812d9d92c44fc593_configs'\ncos = ibmos2spark.CloudObjectStorage(sc, credentials, configuration_name, 'bluemix_cos')\n\nfrom pyspark.sql import SparkSession\nspark = SparkSession.builder.getOrCreate()\ndf = spark.read\\\n  .format('org.apache.spark.sql.execution.datasources.csv.CSVFileFormat')\\\n  .option('header', 'true')\\\n  .load(cos.url('winequality-red.csv', 'default-donotdelete-pr-ijbvuypsfmigjt'))\ndf.take(5)\n", 
            "cell_type": "code", 
            "metadata": {}, 
            "outputs": [
                {
                    "output_type": "execute_result", 
                    "data": {
                        "text/plain": "[Row(fixed acidity='7.4', volatile acidity='0.7', citric acid='0.0', residual sugar='1.9', chlorides='0.076', free sulfur dioxide='11.0', total sulfur dioxide='34.0', density='0.9978', pH='3.51', sulphates='0.56', alcohol='9.4', quality='5'),\n Row(fixed acidity='7.8', volatile acidity='0.88', citric acid='0.0', residual sugar='2.6', chlorides='0.098', free sulfur dioxide='25.0', total sulfur dioxide='67.0', density='0.9968', pH='3.2', sulphates='0.68', alcohol='9.8', quality='5'),\n Row(fixed acidity='7.8', volatile acidity='0.76', citric acid='0.04', residual sugar='2.3', chlorides='0.092', free sulfur dioxide='15.0', total sulfur dioxide='54.0', density='0.997', pH='3.26', sulphates='0.65', alcohol='9.8', quality='5'),\n Row(fixed acidity='11.2', volatile acidity='0.28', citric acid='0.56', residual sugar='1.9', chlorides='0.075', free sulfur dioxide='17.0', total sulfur dioxide='60.0', density='0.998', pH='3.16', sulphates='0.58', alcohol='9.8', quality='6'),\n Row(fixed acidity='7.4', volatile acidity='0.7', citric acid='0.0', residual sugar='1.9', chlorides='0.076', free sulfur dioxide='11.0', total sulfur dioxide='34.0', density='0.9978', pH='3.51', sulphates='0.56', alcohol='9.4', quality='5')]"
                    }, 
                    "execution_count": 99, 
                    "metadata": {}
                }
            ], 
            "execution_count": 99
        }, 
        {
            "source": "df.createOrReplaceTempView(\"df\")\ndf = spark.sql(\"SELECT cast(`fixed acidity` as float) `fixed acidity`, cast(`volatile acidity` as float) `volatile acidity`,\\\n          cast(`citric acid` as float) `citric acid`, cast(`residual sugar` as float) `residual sugar`, \\\n          cast(`chlorides` as float) `chlorides`, cast(`free sulfur dioxide` as float) `free sulfur dioxide`, \\\n          cast (`total sulfur dioxide` as float) `total sulfur dioxide`, \\\n          cast(`sulphates` as float) `sulphates`, cast(`alcohol` as float) `alcohol`, cast(`quality` as float) `quality` from df\")\ndf.show(30)", 
            "cell_type": "code", 
            "metadata": {}, 
            "outputs": [
                {
                    "output_type": "stream", 
                    "name": "stdout", 
                    "text": "+-------------+----------------+-----------+--------------+---------+-------------------+--------------------+---------+-------+-------+\n|fixed acidity|volatile acidity|citric acid|residual sugar|chlorides|free sulfur dioxide|total sulfur dioxide|sulphates|alcohol|quality|\n+-------------+----------------+-----------+--------------+---------+-------------------+--------------------+---------+-------+-------+\n|          7.4|             0.7|        0.0|           1.9|    0.076|               11.0|                34.0|     0.56|    9.4|    5.0|\n|          7.8|            0.88|        0.0|           2.6|    0.098|               25.0|                67.0|     0.68|    9.8|    5.0|\n|          7.8|            0.76|       0.04|           2.3|    0.092|               15.0|                54.0|     0.65|    9.8|    5.0|\n|         11.2|            0.28|       0.56|           1.9|    0.075|               17.0|                60.0|     0.58|    9.8|    6.0|\n|          7.4|             0.7|        0.0|           1.9|    0.076|               11.0|                34.0|     0.56|    9.4|    5.0|\n|          7.4|            0.66|        0.0|           1.8|    0.075|               13.0|                40.0|     0.56|    9.4|    5.0|\n|          7.9|             0.6|       0.06|           1.6|    0.069|               15.0|                59.0|     0.46|    9.4|    5.0|\n|          7.3|            0.65|        0.0|           1.2|    0.065|               15.0|                21.0|     0.47|   10.0|    7.0|\n|          7.8|            0.58|       0.02|           2.0|    0.073|                9.0|                18.0|     0.57|    9.5|    7.0|\n|          7.5|             0.5|       0.36|           6.1|    0.071|               17.0|               102.0|      0.8|   10.5|    5.0|\n|          6.7|            0.58|       0.08|           1.8|    0.097|               15.0|                65.0|     0.54|    9.2|    5.0|\n|          7.5|             0.5|       0.36|           6.1|    0.071|               17.0|               102.0|      0.8|   10.5|    5.0|\n|          5.6|           0.615|        0.0|           1.6|    0.089|               16.0|                59.0|     0.52|    9.9|    5.0|\n|          7.8|            0.61|       0.29|           1.6|    0.114|                9.0|                29.0|     1.56|    9.1|    5.0|\n|          8.9|            0.62|       0.18|           3.8|    0.176|               52.0|               145.0|     0.88|    9.2|    5.0|\n|          8.9|            0.62|       0.19|           3.9|     0.17|               51.0|               148.0|     0.93|    9.2|    5.0|\n|          8.5|            0.28|       0.56|           1.8|    0.092|               35.0|               103.0|     0.75|   10.5|    7.0|\n|          8.1|            0.56|       0.28|           1.7|    0.368|               16.0|                56.0|     1.28|    9.3|    5.0|\n|          7.4|            0.59|       0.08|           4.4|    0.086|                6.0|                29.0|      0.5|    9.0|    4.0|\n|          7.9|            0.32|       0.51|           1.8|    0.341|               17.0|                56.0|     1.08|    9.2|    6.0|\n|          8.9|            0.22|       0.48|           1.8|    0.077|               29.0|                60.0|     0.53|    9.4|    6.0|\n|          7.6|            0.39|       0.31|           2.3|    0.082|               23.0|                71.0|     0.65|    9.7|    5.0|\n|          7.9|            0.43|       0.21|           1.6|    0.106|               10.0|                37.0|     0.91|    9.5|    5.0|\n|          8.5|            0.49|       0.11|           2.3|    0.084|                9.0|                67.0|     0.53|    9.4|    5.0|\n|          6.9|             0.4|       0.14|           2.4|    0.085|               21.0|                40.0|     0.63|    9.7|    6.0|\n|          6.3|            0.39|       0.16|           1.4|     0.08|               11.0|                23.0|     0.56|    9.3|    5.0|\n|          7.6|            0.41|       0.24|           1.8|     0.08|                4.0|                11.0|     0.59|    9.5|    5.0|\n|          7.9|            0.43|       0.21|           1.6|    0.106|               10.0|                37.0|     0.91|    9.5|    5.0|\n|          7.1|            0.71|        0.0|           1.9|     0.08|               14.0|                35.0|     0.55|    9.4|    5.0|\n|          7.8|           0.645|        0.0|           2.0|    0.082|                8.0|                16.0|     0.59|    9.8|    6.0|\n+-------------+----------------+-----------+--------------+---------+-------------------+--------------------+---------+-------+-------+\nonly showing top 30 rows\n\n"
                }
            ], 
            "execution_count": 100
        }, 
        {
            "source": "from pyspark.ml.linalg import Vectors\nfrom pyspark.ml.feature import VectorAssembler\n\nvectorAssembler = VectorAssembler(inputCols=[\"fixed acidity\", \"volatile acidity\", \"citric acid\", \"residual sugar\", \"chlorides\", \n                                            \"free sulfur dioxide\", \"total sulfur dioxide\", \"sulphates\", \"alcohol\"],\n                                  outputCol=\"features\")\n", 
            "cell_type": "code", 
            "metadata": {}, 
            "outputs": [], 
            "execution_count": 101
        }, 
        {
            "source": "wine_df = vectorAssembler.transform(df)\nwine_df = wine_df.select(['features', 'quality'])\nwine_df.show(3)", 
            "cell_type": "code", 
            "metadata": {}, 
            "outputs": [
                {
                    "output_type": "stream", 
                    "name": "stdout", 
                    "text": "+--------------------+-------+\n|            features|quality|\n+--------------------+-------+\n|[7.40000009536743...|    5.0|\n|[7.80000019073486...|    5.0|\n|[7.80000019073486...|    5.0|\n+--------------------+-------+\nonly showing top 3 rows\n\n"
                }
            ], 
            "execution_count": 102
        }, 
        {
            "source": "splits = wine_df.randomSplit([0.8, 0.2])\ndf_train = splits[0]\ndf_test = splits[1]", 
            "cell_type": "code", 
            "metadata": {}, 
            "outputs": [], 
            "execution_count": 105
        }, 
        {
            "source": "from pyspark.ml.regression import LinearRegression\n\nlr = LinearRegression(featuresCol = 'features', labelCol='quality', maxIter=10, regParam=0.3, elasticNetParam=0.8)\nlr_model = lr.fit(df_train)\n\nprint(\"Coefficients: \" + str(lr_model.coefficients))\nprint(\"Intercept: \" + str(lr_model.intercept))", 
            "cell_type": "code", 
            "metadata": {}, 
            "outputs": [
                {
                    "output_type": "stream", 
                    "name": "stdout", 
                    "text": "Coefficients: [0.0,-0.246562332057,0.0,0.0,0.0,0.0,0.0,0.0,0.130069722145]\nIntercept: 4.426144466062683\n"
                }
            ], 
            "execution_count": 106
        }, 
        {
            "source": "trainingSummary = lr_model.summary\nprint(\"RMSE: %f\" % trainingSummary.rootMeanSquaredError)\nprint(\"r2: %f\" % trainingSummary.r2)", 
            "cell_type": "code", 
            "metadata": {}, 
            "outputs": [
                {
                    "output_type": "stream", 
                    "name": "stdout", 
                    "text": "RMSE: 0.736556\nr2: 0.176016\n"
                }
            ], 
            "execution_count": 107
        }, 
        {
            "source": "df_train.describe().show()", 
            "cell_type": "code", 
            "metadata": {}, 
            "outputs": [
                {
                    "output_type": "stream", 
                    "name": "stdout", 
                    "text": "+-------+------------------+\n|summary|           quality|\n+-------+------------------+\n|  count|              1258|\n|   mean| 5.655007949125596|\n| stddev|0.8117442693894692|\n|    min|               3.0|\n|    max|               8.0|\n+-------+------------------+\n\n"
                }
            ], 
            "execution_count": 108
        }, 
        {
            "source": "lr_predictions = lr_model.transform(df_test)\nlr_predictions.select(\"prediction\",\"quality\",\"features\").show(5)\nfrom pyspark.ml.evaluation import RegressionEvaluator\nlr_evaluator = RegressionEvaluator(predictionCol=\"prediction\", \\\n                 labelCol=\"quality\",metricName=\"r2\")\nprint(\"R Squared (R2) on test data = %g\" % lr_evaluator.evaluate(lr_predictions))", 
            "cell_type": "code", 
            "metadata": {}, 
            "outputs": [
                {
                    "output_type": "stream", 
                    "name": "stdout", 
                    "text": "+-----------------+-------+--------------------+\n|       prediction|quality|            features|\n+-----------------+-------+--------------------+\n|5.869559864798003|    6.0|[5.0,0.7400000095...|\n|5.665521454793363|    5.0|[5.0,1.0399999618...|\n| 6.09153656061749|    7.0|[5.09999990463256...|\n|5.959804873149034|    7.0|[5.09999990463256...|\n|5.775795584293244|    5.0|[5.59999990463256...|\n+-----------------+-------+--------------------+\nonly showing top 5 rows\n\nR Squared (R2) on test data = 0.135861\n"
                }
            ], 
            "execution_count": 109
        }, 
        {
            "source": "test_result = lr_model.evaluate(df_test)\nprint(\"Root Mean Squared Error (RMSE) on test data = %g\" % test_result.rootMeanSquaredError)", 
            "cell_type": "code", 
            "metadata": {}, 
            "outputs": [
                {
                    "output_type": "stream", 
                    "name": "stdout", 
                    "text": "Root Mean Squared Error (RMSE) on test data = 0.732558\n"
                }
            ], 
            "execution_count": 110
        }, 
        {
            "source": "print(\"numIterations: %d\" % trainingSummary.totalIterations)\nprint(\"objectiveHistory: %s\" % str(trainingSummary.objectiveHistory))\ntrainingSummary.residuals.show()", 
            "cell_type": "code", 
            "metadata": {}, 
            "outputs": [
                {
                    "output_type": "stream", 
                    "name": "stdout", 
                    "text": "numIterations: 11\nobjectiveHistory: [0.5, 0.4939489385364445, 0.4806395229195412, 0.4803215112557405, 0.4803087177792582, 0.4803065855778588, 0.4803065711456734, 0.4803065701451617, 0.4803065700720213, 0.48030657006636646, 0.48030657006592137]\n+--------------------+\n|           residuals|\n+--------------------+\n|  -2.001845467809119|\n| 0.04389357300097174|\n|  0.8564356001422979|\n|-0.15342689108248742|\n|  -0.096467802555817|\n|   1.856435600142298|\n|  -1.540382974587006|\n| 0.02484736144916777|\n|  1.0217029548859768|\n| -0.5438859404904122|\n|-0.16328938230727275|\n|-0.16328938230727275|\n|  1.1053548653228038|\n| 0.10782049364009794|\n|  0.1070167066024208|\n|  0.9251272742166838|\n|  0.9207915589245896|\n|  1.0885245346374326|\n| -0.6806193487001444|\n|  1.0775541029794313|\n+--------------------+\nonly showing top 20 rows\n\n"
                }
            ], 
            "execution_count": 111
        }, 
        {
            "source": "predictions = lr_model.transform(df_test)\npredictions.select(\"prediction\",\"quality\",\"features\").show()", 
            "cell_type": "code", 
            "metadata": {}, 
            "outputs": [
                {
                    "output_type": "stream", 
                    "name": "stdout", 
                    "text": "+-----------------+-------+--------------------+\n|       prediction|quality|            features|\n+-----------------+-------+--------------------+\n|5.869559864798003|    6.0|[5.0,0.7400000095...|\n|5.665521454793363|    5.0|[5.0,1.0399999618...|\n| 6.09153656061749|    7.0|[5.09999990463256...|\n|5.959804873149034|    7.0|[5.09999990463256...|\n|5.775795584293244|    5.0|[5.59999990463256...|\n|5.954873616514447|    5.0|[5.59999990463256...|\n|5.586980062290905|    4.0|[5.59999990463256...|\n|5.928305788699809|    7.0|[5.59999990463256...|\n|5.683334709772041|    5.0|[5.59999990463256...|\n| 5.86505764630658|    6.0|[5.69999980926513...|\n|5.422212333841235|    4.0|[5.69999980926513...|\n|5.672918317700854|    6.0|[5.80000019073486...|\n|5.719515405404755|    6.0|[5.90000009536743...|\n|5.931200447812138|    6.0|[6.0,0.4900000095...|\n|5.603560521481262|    5.0|[6.0,0.5,0.039999...|\n|5.909009844393404|    6.0|[6.0,0.5799999833...|\n| 5.66094876484712|    5.0|[6.09999990463256...|\n|5.725983625919463|    5.0|[6.09999990463256...|\n|5.635184600026006|    6.0|[6.09999990463256...|\n|5.763467479447425|    5.0|[6.09999990463256...|\n+-----------------+-------+--------------------+\nonly showing top 20 rows\n\n"
                }
            ], 
            "execution_count": 112
        }, 
        {
            "source": "", 
            "cell_type": "code", 
            "metadata": {}, 
            "outputs": [], 
            "execution_count": null
        }
    ], 
    "metadata": {
        "kernelspec": {
            "display_name": "Python 3.5 with Spark 2.1", 
            "name": "python3-spark21", 
            "language": "python"
        }, 
        "language_info": {
            "mimetype": "text/x-python", 
            "nbconvert_exporter": "python", 
            "version": "3.5.4", 
            "name": "python", 
            "pygments_lexer": "ipython3", 
            "file_extension": ".py", 
            "codemirror_mode": {
                "version": 3, 
                "name": "ipython"
            }
        }
    }, 
    "nbformat": 4
}