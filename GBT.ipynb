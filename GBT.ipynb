{
    "nbformat_minor": 1, 
    "cells": [
        {
            "source": "\nimport ibmos2spark\n\n# @hidden_cell\ncredentials = {\n    'endpoint': 'https://s3-api.us-geo.objectstorage.service.networklayer.com',\n    'api_key': 'dkRewe8bWqDvG_wGkUpZZWfiK76sgOynJi2_lGtlmIOW',\n    'service_id': 'iam-ServiceId-f944cf31-4f89-489c-87b7-78cddfcaf29c',\n    'iam_service_endpoint': 'https://iam.bluemix.net/oidc/token'}\n\nconfiguration_name = 'os_8c14de1d42f947c2812d9d92c44fc593_configs'\ncos = ibmos2spark.CloudObjectStorage(sc, credentials, configuration_name, 'bluemix_cos')\n\nfrom pyspark.sql import SparkSession\nspark = SparkSession.builder.getOrCreate()\ndf = spark.read\\\n  .format('org.apache.spark.sql.execution.datasources.csv.CSVFileFormat')\\\n  .option('header', 'true')\\\n  .load(cos.url('winequality-red.csv', 'default-donotdelete-pr-ijbvuypsfmigjt'))\ndf.take(5)\n", 
            "cell_type": "code", 
            "metadata": {}, 
            "outputs": [
                {
                    "output_type": "execute_result", 
                    "data": {
                        "text/plain": "[Row(fixed acidity='7.4', volatile acidity='0.7', citric acid='0.0', residual sugar='1.9', chlorides='0.076', free sulfur dioxide='11.0', total sulfur dioxide='34.0', density='0.9978', pH='3.51', sulphates='0.56', alcohol='9.4', quality='5'),\n Row(fixed acidity='7.8', volatile acidity='0.88', citric acid='0.0', residual sugar='2.6', chlorides='0.098', free sulfur dioxide='25.0', total sulfur dioxide='67.0', density='0.9968', pH='3.2', sulphates='0.68', alcohol='9.8', quality='5'),\n Row(fixed acidity='7.8', volatile acidity='0.76', citric acid='0.04', residual sugar='2.3', chlorides='0.092', free sulfur dioxide='15.0', total sulfur dioxide='54.0', density='0.997', pH='3.26', sulphates='0.65', alcohol='9.8', quality='5'),\n Row(fixed acidity='11.2', volatile acidity='0.28', citric acid='0.56', residual sugar='1.9', chlorides='0.075', free sulfur dioxide='17.0', total sulfur dioxide='60.0', density='0.998', pH='3.16', sulphates='0.58', alcohol='9.8', quality='6'),\n Row(fixed acidity='7.4', volatile acidity='0.7', citric acid='0.0', residual sugar='1.9', chlorides='0.076', free sulfur dioxide='11.0', total sulfur dioxide='34.0', density='0.9978', pH='3.51', sulphates='0.56', alcohol='9.4', quality='5')]"
                    }, 
                    "execution_count": 4, 
                    "metadata": {}
                }
            ], 
            "execution_count": 4
        }, 
        {
            "source": "df.createOrReplaceTempView(\"df\")\ndf = spark.sql(\"SELECT cast(`fixed acidity` as float) `fixed acidity`, cast(`volatile acidity` as float) `volatile acidity`,\\\n          cast(`citric acid` as float) `citric acid`, cast(`residual sugar` as float) `residual sugar`, \\\n          cast(`chlorides` as float) `chlorides`, cast(`free sulfur dioxide` as float) `free sulfur dioxide`, \\\n          cast (`total sulfur dioxide` as float) `total sulfur dioxide`, \\\n          cast(`sulphates` as float) `sulphates`, cast(`alcohol` as float) `alcohol`, IF(quality>=7, 1, 0) as `label` from df\")\ndf.show(30)", 
            "cell_type": "code", 
            "metadata": {}, 
            "outputs": [
                {
                    "output_type": "stream", 
                    "name": "stdout", 
                    "text": "+-------------+----------------+-----------+--------------+---------+-------------------+--------------------+---------+-------+-----+\n|fixed acidity|volatile acidity|citric acid|residual sugar|chlorides|free sulfur dioxide|total sulfur dioxide|sulphates|alcohol|label|\n+-------------+----------------+-----------+--------------+---------+-------------------+--------------------+---------+-------+-----+\n|          7.4|             0.7|        0.0|           1.9|    0.076|               11.0|                34.0|     0.56|    9.4|    0|\n|          7.8|            0.88|        0.0|           2.6|    0.098|               25.0|                67.0|     0.68|    9.8|    0|\n|          7.8|            0.76|       0.04|           2.3|    0.092|               15.0|                54.0|     0.65|    9.8|    0|\n|         11.2|            0.28|       0.56|           1.9|    0.075|               17.0|                60.0|     0.58|    9.8|    0|\n|          7.4|             0.7|        0.0|           1.9|    0.076|               11.0|                34.0|     0.56|    9.4|    0|\n|          7.4|            0.66|        0.0|           1.8|    0.075|               13.0|                40.0|     0.56|    9.4|    0|\n|          7.9|             0.6|       0.06|           1.6|    0.069|               15.0|                59.0|     0.46|    9.4|    0|\n|          7.3|            0.65|        0.0|           1.2|    0.065|               15.0|                21.0|     0.47|   10.0|    1|\n|          7.8|            0.58|       0.02|           2.0|    0.073|                9.0|                18.0|     0.57|    9.5|    1|\n|          7.5|             0.5|       0.36|           6.1|    0.071|               17.0|               102.0|      0.8|   10.5|    0|\n|          6.7|            0.58|       0.08|           1.8|    0.097|               15.0|                65.0|     0.54|    9.2|    0|\n|          7.5|             0.5|       0.36|           6.1|    0.071|               17.0|               102.0|      0.8|   10.5|    0|\n|          5.6|           0.615|        0.0|           1.6|    0.089|               16.0|                59.0|     0.52|    9.9|    0|\n|          7.8|            0.61|       0.29|           1.6|    0.114|                9.0|                29.0|     1.56|    9.1|    0|\n|          8.9|            0.62|       0.18|           3.8|    0.176|               52.0|               145.0|     0.88|    9.2|    0|\n|          8.9|            0.62|       0.19|           3.9|     0.17|               51.0|               148.0|     0.93|    9.2|    0|\n|          8.5|            0.28|       0.56|           1.8|    0.092|               35.0|               103.0|     0.75|   10.5|    1|\n|          8.1|            0.56|       0.28|           1.7|    0.368|               16.0|                56.0|     1.28|    9.3|    0|\n|          7.4|            0.59|       0.08|           4.4|    0.086|                6.0|                29.0|      0.5|    9.0|    0|\n|          7.9|            0.32|       0.51|           1.8|    0.341|               17.0|                56.0|     1.08|    9.2|    0|\n|          8.9|            0.22|       0.48|           1.8|    0.077|               29.0|                60.0|     0.53|    9.4|    0|\n|          7.6|            0.39|       0.31|           2.3|    0.082|               23.0|                71.0|     0.65|    9.7|    0|\n|          7.9|            0.43|       0.21|           1.6|    0.106|               10.0|                37.0|     0.91|    9.5|    0|\n|          8.5|            0.49|       0.11|           2.3|    0.084|                9.0|                67.0|     0.53|    9.4|    0|\n|          6.9|             0.4|       0.14|           2.4|    0.085|               21.0|                40.0|     0.63|    9.7|    0|\n|          6.3|            0.39|       0.16|           1.4|     0.08|               11.0|                23.0|     0.56|    9.3|    0|\n|          7.6|            0.41|       0.24|           1.8|     0.08|                4.0|                11.0|     0.59|    9.5|    0|\n|          7.9|            0.43|       0.21|           1.6|    0.106|               10.0|                37.0|     0.91|    9.5|    0|\n|          7.1|            0.71|        0.0|           1.9|     0.08|               14.0|                35.0|     0.55|    9.4|    0|\n|          7.8|           0.645|        0.0|           2.0|    0.082|                8.0|                16.0|     0.59|    9.8|    0|\n+-------------+----------------+-----------+--------------+---------+-------------------+--------------------+---------+-------+-----+\nonly showing top 30 rows\n\n"
                }
            ], 
            "execution_count": 5
        }, 
        {
            "source": "splits = df.randomSplit([0.75, 0.25])\ndf_train = splits[0]\ndf_test = splits[1]", 
            "cell_type": "code", 
            "metadata": {}, 
            "outputs": [], 
            "execution_count": 6
        }, 
        {
            "source": "from pyspark.ml.linalg import Vectors\nfrom pyspark.ml.feature import VectorAssembler\nfrom pyspark.ml.feature import Normalizer\n\nvectorAssembler = VectorAssembler(inputCols=[\"fixed acidity\", \"volatile acidity\", \"citric acid\", \"residual sugar\", \"chlorides\", \n                                            \"free sulfur dioxide\", \"total sulfur dioxide\", \"sulphates\", \"alcohol\"],\n                                  outputCol=\"features\")\nnormalizer = Normalizer(inputCol=\"features\", outputCol=\"features_norm\", p=1.0)", 
            "cell_type": "code", 
            "metadata": {}, 
            "outputs": [], 
            "execution_count": 7
        }, 
        {
            "source": "from pyspark.ml.classification import GBTClassifier\n\ngbt = GBTClassifier(labelCol=\"label\", featuresCol=\"features\", maxIter=10)", 
            "cell_type": "code", 
            "metadata": {}, 
            "outputs": [], 
            "execution_count": 8
        }, 
        {
            "source": "from pyspark.ml import Pipeline\npipeline = Pipeline(stages=[vectorAssembler, normalizer,gbt])", 
            "cell_type": "code", 
            "metadata": {}, 
            "outputs": [], 
            "execution_count": 9
        }, 
        {
            "source": "model = pipeline.fit(df_train)", 
            "cell_type": "code", 
            "metadata": {}, 
            "outputs": [], 
            "execution_count": 10
        }, 
        {
            "source": "prediction = model.transform(df_train)", 
            "cell_type": "code", 
            "metadata": {}, 
            "outputs": [], 
            "execution_count": 11
        }, 
        {
            "source": "from pyspark.ml.evaluation import MulticlassClassificationEvaluator\nbinEval = MulticlassClassificationEvaluator().setMetricName(\"f1\") .setPredictionCol(\"prediction\").setLabelCol(\"label\")\n    \nbinEval.evaluate(prediction)", 
            "cell_type": "code", 
            "metadata": {}, 
            "outputs": [
                {
                    "output_type": "execute_result", 
                    "data": {
                        "text/plain": "0.9541431179897399"
                    }, 
                    "execution_count": 12, 
                    "metadata": {}
                }
            ], 
            "execution_count": 12
        }, 
        {
            "source": "prediction = model.transform(df_test)", 
            "cell_type": "code", 
            "metadata": {}, 
            "outputs": [], 
            "execution_count": 13
        }, 
        {
            "source": "binEval.evaluate(prediction)", 
            "cell_type": "code", 
            "metadata": {}, 
            "outputs": [
                {
                    "output_type": "execute_result", 
                    "data": {
                        "text/plain": "0.8901167797719521"
                    }, 
                    "execution_count": 14, 
                    "metadata": {}
                }
            ], 
            "execution_count": 14
        }, 
        {
            "source": "prediction.select('label').show(15)", 
            "cell_type": "code", 
            "metadata": {}, 
            "outputs": [
                {
                    "output_type": "stream", 
                    "name": "stdout", 
                    "text": "+-----+\n|label|\n+-----+\n|    0|\n|    1|\n|    0|\n|    1|\n|    0|\n|    1|\n|    0|\n|    1|\n|    1|\n|    0|\n|    1|\n|    1|\n|    0|\n|    0|\n|    0|\n+-----+\nonly showing top 15 rows\n\n"
                }
            ], 
            "execution_count": 15
        }, 
        {
            "source": "df_test.select('label').show(15)", 
            "cell_type": "code", 
            "metadata": {}, 
            "outputs": [
                {
                    "output_type": "stream", 
                    "name": "stdout", 
                    "text": "+-----+\n|label|\n+-----+\n|    0|\n|    1|\n|    0|\n|    1|\n|    0|\n|    1|\n|    0|\n|    1|\n|    1|\n|    0|\n|    1|\n|    1|\n|    0|\n|    0|\n|    0|\n+-----+\nonly showing top 15 rows\n\n"
                }
            ], 
            "execution_count": 16
        }, 
        {
            "source": "", 
            "cell_type": "code", 
            "metadata": {}, 
            "outputs": [
                {
                    "output_type": "stream", 
                    "name": "stdout", 
                    "text": "None\n"
                }
            ], 
            "execution_count": 19
        }
    ], 
    "metadata": {
        "kernelspec": {
            "display_name": "Python 3.5 with Spark 2.1", 
            "name": "python3-spark21", 
            "language": "python"
        }, 
        "language_info": {
            "mimetype": "text/x-python", 
            "nbconvert_exporter": "python", 
            "version": "3.5.4", 
            "name": "python", 
            "pygments_lexer": "ipython3", 
            "file_extension": ".py", 
            "codemirror_mode": {
                "version": 3, 
                "name": "ipython"
            }
        }
    }, 
    "nbformat": 4
}