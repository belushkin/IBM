{
    "nbformat_minor": 1, 
    "cells": [
        {
            "source": "#!pip install --upgrade systemml\n!pip install --upgrade https://github.com/niketanpansare/future_of_data/raw/master/systemml-1.1.0-SNAPSHOT-python.tar.gz\n!ln -s -f ~/.local/lib/python2.7/site-packages/systemml/systemml-java/*.jar ~/data/libs/", 
            "cell_type": "code", 
            "metadata": {}, 
            "outputs": [
                {
                    "output_type": "stream", 
                    "name": "stdout", 
                    "text": "Collecting https://github.com/niketanpansare/future_of_data/raw/master/systemml-1.1.0-SNAPSHOT-python.tar.gz\n  Using cached https://github.com/niketanpansare/future_of_data/raw/master/systemml-1.1.0-SNAPSHOT-python.tar.gz\nRequirement not upgraded as not directly required: numpy>=1.8.2 in /usr/local/src/bluemix_jupyter_bundle.v106/notebook/lib/python2.7/site-packages (from systemml==1.1.0) (1.13.1)\nRequirement not upgraded as not directly required: scipy>=0.15.1 in /usr/local/src/bluemix_jupyter_bundle.v106/notebook/lib/python2.7/site-packages (from systemml==1.1.0) (0.17.0)\nRequirement not upgraded as not directly required: pandas in /usr/local/src/bluemix_jupyter_bundle.v106/notebook/lib/python2.7/site-packages (from systemml==1.1.0) (0.17.1)\nRequirement not upgraded as not directly required: scikit-learn in /usr/local/src/bluemix_jupyter_bundle.v106/notebook/lib/python2.7/site-packages (from systemml==1.1.0) (0.17)\nRequirement not upgraded as not directly required: Pillow>=2.0.0 in /usr/local/src/bluemix_jupyter_bundle.v106/notebook/lib/python2.7/site-packages (from systemml==1.1.0) (3.0.0)\nRequirement not upgraded as not directly required: python-dateutil in /usr/local/src/bluemix_jupyter_bundle.v106/notebook/lib/python2.7/site-packages (from pandas->systemml==1.1.0) (2.4.2)\nRequirement not upgraded as not directly required: pytz>=2011k in /usr/local/src/bluemix_jupyter_bundle.v106/notebook/lib/python2.7/site-packages (from pandas->systemml==1.1.0) (2018.4)\nRequirement not upgraded as not directly required: six>=1.5 in /usr/local/src/bluemix_jupyter_bundle.v106/notebook/lib/python2.7/site-packages (from python-dateutil->pandas->systemml==1.1.0) (1.10.0)\nBuilding wheels for collected packages: systemml\n  Running setup.py bdist_wheel for systemml ... \u001b[?25ldone\n\u001b[?25h  Stored in directory: /gpfs/fs01/user/sd72-5c78ef3376bcb4-2ccd90524418/.cache/pip/wheels/75/ca/50/f14a0f1cec72222376f5ced7749629ca44194d8245c2e4939d\nSuccessfully built systemml\n\u001b[31mtensorflow 1.2.1 has requirement bleach==1.5.0, but you'll have bleach 2.0.0 which is incompatible.\u001b[0m\n\u001b[31mtensorflow 1.2.1 has requirement html5lib==0.9999999, but you'll have html5lib 0.999999999 which is incompatible.\u001b[0m\nInstalling collected packages: systemml\n  Found existing installation: systemml 1.1.0\n    Uninstalling systemml-1.1.0:\n      Successfully uninstalled systemml-1.1.0\nSuccessfully installed systemml-1.1.0\n"
                }
            ], 
            "execution_count": 1
        }, 
        {
            "source": "!pip show systemml", 
            "cell_type": "code", 
            "metadata": {}, 
            "outputs": [
                {
                    "output_type": "stream", 
                    "name": "stdout", 
                    "text": "Name: systemml\r\nVersion: 1.1.0\r\nSummary: Apache SystemML is a distributed and declarative machine learning platform.\r\nHome-page: http://systemml.apache.org/\r\nAuthor: Apache SystemML\r\nAuthor-email: dev@systemml.apache.org\r\nLicense: Apache 2.0\r\nLocation: /gpfs/global_fs01/sym_shared/YPProdSpark/user/sd72-5c78ef3376bcb4-2ccd90524418/.local/lib/python2.7/site-packages\r\nRequires: pandas, scipy, Pillow, numpy, scikit-learn\r\nRequired-by: \r\n"
                }
            ], 
            "execution_count": 2
        }, 
        {
            "source": "sc.version", 
            "cell_type": "code", 
            "metadata": {
                "scrolled": true
            }, 
            "outputs": [
                {
                    "output_type": "execute_result", 
                    "data": {
                        "text/plain": "u'2.1.3'"
                    }, 
                    "execution_count": 3, 
                    "metadata": {}
                }
            ], 
            "execution_count": 3
        }, 
        {
            "source": "from systemml import MLContext, dml\n# Create a MLContext object\nml = MLContext(sc)\n# And print the information of SystemML version\nprint(ml.info())", 
            "cell_type": "code", 
            "metadata": {}, 
            "outputs": [
                {
                    "output_type": "stream", 
                    "name": "stdout", 
                    "text": "Archiver-Version: Plexus Archiver\nArtifact-Id: systemml\nBuild-Jdk: 1.8.0_111\nBuild-Time: 2018-01-11 16:39:06 CST\nBuilt-By: biuser\nCreated-By: Apache Maven 3.0.5\nGroup-Id: org.apache.systemml\nMain-Class: org.apache.sysml.api.DMLScript\nManifest-Version: 1.0\nMinimum-Recommended-Spark-Version: 2.1.0\nVersion: 1.1.0-SNAPSHOT\n\n"
                }
            ], 
            "execution_count": 4
        }, 
        {
            "source": "\nimport types\nimport pandas as pd\nfrom ibm_botocore.client import Config\nimport ibm_boto3\n\ndef __iter__(self): return 0\n\n# @hidden_cell\n# The following code accesses a file in your IBM Cloud Object Storage. It includes your credentials.\n# You might want to remove those credentials before you share your notebook.\nclient_8c14de1d42f947c2812d9d92c44fc593 = ibm_boto3.client(service_name='s3',\n    ibm_api_key_id='dkRewe8bWqDvG_wGkUpZZWfiK76sgOynJi2_lGtlmIOW',\n    ibm_auth_endpoint=\"https://iam.bluemix.net/oidc/token\",\n    config=Config(signature_version='oauth'),\n    endpoint_url='https://s3-api.us-geo.objectstorage.service.networklayer.com')\n\nbody = client_8c14de1d42f947c2812d9d92c44fc593.get_object(Bucket='default-donotdelete-pr-ijbvuypsfmigjt',Key='winequality-red.csv')['Body']\n# add missing __iter__ method, so pandas accepts body as file-like object\nif not hasattr(body, \"__iter__\"): body.__iter__ = types.MethodType( __iter__, body )\n\ndf = pd.read_csv(body)\ndf.head()\n\n", 
            "cell_type": "code", 
            "metadata": {}, 
            "outputs": [
                {
                    "output_type": "execute_result", 
                    "data": {
                        "text/plain": "   fixed acidity  volatile acidity  citric acid  residual sugar  chlorides  \\\n0            7.4              0.70         0.00             1.9      0.076   \n1            7.8              0.88         0.00             2.6      0.098   \n2            7.8              0.76         0.04             2.3      0.092   \n3           11.2              0.28         0.56             1.9      0.075   \n4            7.4              0.70         0.00             1.9      0.076   \n\n   free sulfur dioxide  total sulfur dioxide  density    pH  sulphates  \\\n0                   11                    34   0.9978  3.51       0.56   \n1                   25                    67   0.9968  3.20       0.68   \n2                   15                    54   0.9970  3.26       0.65   \n3                   17                    60   0.9980  3.16       0.58   \n4                   11                    34   0.9978  3.51       0.56   \n\n   alcohol  quality  \n0      9.4        5  \n1      9.8        5  \n2      9.8        5  \n3      9.8        6  \n4      9.4        5  ", 
                        "text/html": "<div>\n<table border=\"1\" class=\"dataframe\">\n  <thead>\n    <tr style=\"text-align: right;\">\n      <th></th>\n      <th>fixed acidity</th>\n      <th>volatile acidity</th>\n      <th>citric acid</th>\n      <th>residual sugar</th>\n      <th>chlorides</th>\n      <th>free sulfur dioxide</th>\n      <th>total sulfur dioxide</th>\n      <th>density</th>\n      <th>pH</th>\n      <th>sulphates</th>\n      <th>alcohol</th>\n      <th>quality</th>\n    </tr>\n  </thead>\n  <tbody>\n    <tr>\n      <th>0</th>\n      <td>7.4</td>\n      <td>0.70</td>\n      <td>0.00</td>\n      <td>1.9</td>\n      <td>0.076</td>\n      <td>11</td>\n      <td>34</td>\n      <td>0.9978</td>\n      <td>3.51</td>\n      <td>0.56</td>\n      <td>9.4</td>\n      <td>5</td>\n    </tr>\n    <tr>\n      <th>1</th>\n      <td>7.8</td>\n      <td>0.88</td>\n      <td>0.00</td>\n      <td>2.6</td>\n      <td>0.098</td>\n      <td>25</td>\n      <td>67</td>\n      <td>0.9968</td>\n      <td>3.20</td>\n      <td>0.68</td>\n      <td>9.8</td>\n      <td>5</td>\n    </tr>\n    <tr>\n      <th>2</th>\n      <td>7.8</td>\n      <td>0.76</td>\n      <td>0.04</td>\n      <td>2.3</td>\n      <td>0.092</td>\n      <td>15</td>\n      <td>54</td>\n      <td>0.9970</td>\n      <td>3.26</td>\n      <td>0.65</td>\n      <td>9.8</td>\n      <td>5</td>\n    </tr>\n    <tr>\n      <th>3</th>\n      <td>11.2</td>\n      <td>0.28</td>\n      <td>0.56</td>\n      <td>1.9</td>\n      <td>0.075</td>\n      <td>17</td>\n      <td>60</td>\n      <td>0.9980</td>\n      <td>3.16</td>\n      <td>0.58</td>\n      <td>9.8</td>\n      <td>6</td>\n    </tr>\n    <tr>\n      <th>4</th>\n      <td>7.4</td>\n      <td>0.70</td>\n      <td>0.00</td>\n      <td>1.9</td>\n      <td>0.076</td>\n      <td>11</td>\n      <td>34</td>\n      <td>0.9978</td>\n      <td>3.51</td>\n      <td>0.56</td>\n      <td>9.4</td>\n      <td>5</td>\n    </tr>\n  </tbody>\n</table>\n</div>"
                    }, 
                    "execution_count": 58, 
                    "metadata": {}
                }
            ], 
            "execution_count": 58
        }, 
        {
            "source": "def add_label (row):\n   if row['quality'] >= 7 :\n      return 1\n   return 0\n\ndf['label'] = df.apply (lambda row: add_label (row), axis=1)", 
            "cell_type": "code", 
            "metadata": {}, 
            "outputs": [], 
            "execution_count": 59
        }, 
        {
            "source": "y = df['label']", 
            "cell_type": "code", 
            "metadata": {}, 
            "outputs": [], 
            "execution_count": 60
        }, 
        {
            "source": "df = df.drop(['quality', 'density', 'pH', 'label'], axis=1)\ndf.head(20)", 
            "cell_type": "code", 
            "metadata": {}, 
            "outputs": [
                {
                    "output_type": "execute_result", 
                    "data": {
                        "text/plain": "    fixed acidity  volatile acidity  citric acid  residual sugar  chlorides  \\\n0             7.4             0.700         0.00             1.9      0.076   \n1             7.8             0.880         0.00             2.6      0.098   \n2             7.8             0.760         0.04             2.3      0.092   \n3            11.2             0.280         0.56             1.9      0.075   \n4             7.4             0.700         0.00             1.9      0.076   \n5             7.4             0.660         0.00             1.8      0.075   \n6             7.9             0.600         0.06             1.6      0.069   \n7             7.3             0.650         0.00             1.2      0.065   \n8             7.8             0.580         0.02             2.0      0.073   \n9             7.5             0.500         0.36             6.1      0.071   \n10            6.7             0.580         0.08             1.8      0.097   \n11            7.5             0.500         0.36             6.1      0.071   \n12            5.6             0.615         0.00             1.6      0.089   \n13            7.8             0.610         0.29             1.6      0.114   \n14            8.9             0.620         0.18             3.8      0.176   \n15            8.9             0.620         0.19             3.9      0.170   \n16            8.5             0.280         0.56             1.8      0.092   \n17            8.1             0.560         0.28             1.7      0.368   \n18            7.4             0.590         0.08             4.4      0.086   \n19            7.9             0.320         0.51             1.8      0.341   \n\n    free sulfur dioxide  total sulfur dioxide  sulphates  alcohol  \n0                    11                    34       0.56      9.4  \n1                    25                    67       0.68      9.8  \n2                    15                    54       0.65      9.8  \n3                    17                    60       0.58      9.8  \n4                    11                    34       0.56      9.4  \n5                    13                    40       0.56      9.4  \n6                    15                    59       0.46      9.4  \n7                    15                    21       0.47     10.0  \n8                     9                    18       0.57      9.5  \n9                    17                   102       0.80     10.5  \n10                   15                    65       0.54      9.2  \n11                   17                   102       0.80     10.5  \n12                   16                    59       0.52      9.9  \n13                    9                    29       1.56      9.1  \n14                   52                   145       0.88      9.2  \n15                   51                   148       0.93      9.2  \n16                   35                   103       0.75     10.5  \n17                   16                    56       1.28      9.3  \n18                    6                    29       0.50      9.0  \n19                   17                    56       1.08      9.2  ", 
                        "text/html": "<div>\n<table border=\"1\" class=\"dataframe\">\n  <thead>\n    <tr style=\"text-align: right;\">\n      <th></th>\n      <th>fixed acidity</th>\n      <th>volatile acidity</th>\n      <th>citric acid</th>\n      <th>residual sugar</th>\n      <th>chlorides</th>\n      <th>free sulfur dioxide</th>\n      <th>total sulfur dioxide</th>\n      <th>sulphates</th>\n      <th>alcohol</th>\n    </tr>\n  </thead>\n  <tbody>\n    <tr>\n      <th>0</th>\n      <td>7.4</td>\n      <td>0.700</td>\n      <td>0.00</td>\n      <td>1.9</td>\n      <td>0.076</td>\n      <td>11</td>\n      <td>34</td>\n      <td>0.56</td>\n      <td>9.4</td>\n    </tr>\n    <tr>\n      <th>1</th>\n      <td>7.8</td>\n      <td>0.880</td>\n      <td>0.00</td>\n      <td>2.6</td>\n      <td>0.098</td>\n      <td>25</td>\n      <td>67</td>\n      <td>0.68</td>\n      <td>9.8</td>\n    </tr>\n    <tr>\n      <th>2</th>\n      <td>7.8</td>\n      <td>0.760</td>\n      <td>0.04</td>\n      <td>2.3</td>\n      <td>0.092</td>\n      <td>15</td>\n      <td>54</td>\n      <td>0.65</td>\n      <td>9.8</td>\n    </tr>\n    <tr>\n      <th>3</th>\n      <td>11.2</td>\n      <td>0.280</td>\n      <td>0.56</td>\n      <td>1.9</td>\n      <td>0.075</td>\n      <td>17</td>\n      <td>60</td>\n      <td>0.58</td>\n      <td>9.8</td>\n    </tr>\n    <tr>\n      <th>4</th>\n      <td>7.4</td>\n      <td>0.700</td>\n      <td>0.00</td>\n      <td>1.9</td>\n      <td>0.076</td>\n      <td>11</td>\n      <td>34</td>\n      <td>0.56</td>\n      <td>9.4</td>\n    </tr>\n    <tr>\n      <th>5</th>\n      <td>7.4</td>\n      <td>0.660</td>\n      <td>0.00</td>\n      <td>1.8</td>\n      <td>0.075</td>\n      <td>13</td>\n      <td>40</td>\n      <td>0.56</td>\n      <td>9.4</td>\n    </tr>\n    <tr>\n      <th>6</th>\n      <td>7.9</td>\n      <td>0.600</td>\n      <td>0.06</td>\n      <td>1.6</td>\n      <td>0.069</td>\n      <td>15</td>\n      <td>59</td>\n      <td>0.46</td>\n      <td>9.4</td>\n    </tr>\n    <tr>\n      <th>7</th>\n      <td>7.3</td>\n      <td>0.650</td>\n      <td>0.00</td>\n      <td>1.2</td>\n      <td>0.065</td>\n      <td>15</td>\n      <td>21</td>\n      <td>0.47</td>\n      <td>10.0</td>\n    </tr>\n    <tr>\n      <th>8</th>\n      <td>7.8</td>\n      <td>0.580</td>\n      <td>0.02</td>\n      <td>2.0</td>\n      <td>0.073</td>\n      <td>9</td>\n      <td>18</td>\n      <td>0.57</td>\n      <td>9.5</td>\n    </tr>\n    <tr>\n      <th>9</th>\n      <td>7.5</td>\n      <td>0.500</td>\n      <td>0.36</td>\n      <td>6.1</td>\n      <td>0.071</td>\n      <td>17</td>\n      <td>102</td>\n      <td>0.80</td>\n      <td>10.5</td>\n    </tr>\n    <tr>\n      <th>10</th>\n      <td>6.7</td>\n      <td>0.580</td>\n      <td>0.08</td>\n      <td>1.8</td>\n      <td>0.097</td>\n      <td>15</td>\n      <td>65</td>\n      <td>0.54</td>\n      <td>9.2</td>\n    </tr>\n    <tr>\n      <th>11</th>\n      <td>7.5</td>\n      <td>0.500</td>\n      <td>0.36</td>\n      <td>6.1</td>\n      <td>0.071</td>\n      <td>17</td>\n      <td>102</td>\n      <td>0.80</td>\n      <td>10.5</td>\n    </tr>\n    <tr>\n      <th>12</th>\n      <td>5.6</td>\n      <td>0.615</td>\n      <td>0.00</td>\n      <td>1.6</td>\n      <td>0.089</td>\n      <td>16</td>\n      <td>59</td>\n      <td>0.52</td>\n      <td>9.9</td>\n    </tr>\n    <tr>\n      <th>13</th>\n      <td>7.8</td>\n      <td>0.610</td>\n      <td>0.29</td>\n      <td>1.6</td>\n      <td>0.114</td>\n      <td>9</td>\n      <td>29</td>\n      <td>1.56</td>\n      <td>9.1</td>\n    </tr>\n    <tr>\n      <th>14</th>\n      <td>8.9</td>\n      <td>0.620</td>\n      <td>0.18</td>\n      <td>3.8</td>\n      <td>0.176</td>\n      <td>52</td>\n      <td>145</td>\n      <td>0.88</td>\n      <td>9.2</td>\n    </tr>\n    <tr>\n      <th>15</th>\n      <td>8.9</td>\n      <td>0.620</td>\n      <td>0.19</td>\n      <td>3.9</td>\n      <td>0.170</td>\n      <td>51</td>\n      <td>148</td>\n      <td>0.93</td>\n      <td>9.2</td>\n    </tr>\n    <tr>\n      <th>16</th>\n      <td>8.5</td>\n      <td>0.280</td>\n      <td>0.56</td>\n      <td>1.8</td>\n      <td>0.092</td>\n      <td>35</td>\n      <td>103</td>\n      <td>0.75</td>\n      <td>10.5</td>\n    </tr>\n    <tr>\n      <th>17</th>\n      <td>8.1</td>\n      <td>0.560</td>\n      <td>0.28</td>\n      <td>1.7</td>\n      <td>0.368</td>\n      <td>16</td>\n      <td>56</td>\n      <td>1.28</td>\n      <td>9.3</td>\n    </tr>\n    <tr>\n      <th>18</th>\n      <td>7.4</td>\n      <td>0.590</td>\n      <td>0.08</td>\n      <td>4.4</td>\n      <td>0.086</td>\n      <td>6</td>\n      <td>29</td>\n      <td>0.50</td>\n      <td>9.0</td>\n    </tr>\n    <tr>\n      <th>19</th>\n      <td>7.9</td>\n      <td>0.320</td>\n      <td>0.51</td>\n      <td>1.8</td>\n      <td>0.341</td>\n      <td>17</td>\n      <td>56</td>\n      <td>1.08</td>\n      <td>9.2</td>\n    </tr>\n  </tbody>\n</table>\n</div>"
                    }, 
                    "execution_count": 61, 
                    "metadata": {}
                }
            ], 
            "execution_count": 61
        }, 
        {
            "source": "import numpy as np\nX = np.array(df)", 
            "cell_type": "code", 
            "metadata": {}, 
            "outputs": [], 
            "execution_count": 87
        }, 
        {
            "source": "from sklearn.cross_validation import train_test_split\n\ndf_x_train, df_x_test, df_y_train, df_y_test = train_test_split(X, y, test_size=0.33, random_state=42)", 
            "cell_type": "code", 
            "metadata": {}, 
            "outputs": [], 
            "execution_count": 89
        }, 
        {
            "source": "from systemml.mllearn import LogisticRegression\nlogistic = LogisticRegression(spark)", 
            "cell_type": "code", 
            "metadata": {}, 
            "outputs": [], 
            "execution_count": 140
        }, 
        {
            "source": "model = logistic.fit(df_x_train, np.array(df_y_train))", 
            "cell_type": "code", 
            "metadata": {
                "scrolled": true
            }, 
            "outputs": [
                {
                    "output_type": "stream", 
                    "name": "stdout", 
                    "text": "BEGIN MULTINOMIAL LOGISTIC REGRESSION SCRIPT\nReading X...\nReading Y...\n-- Initially:  Objective = 742.3606303797014,  Gradient Norm = 21840.154115737114,  Trust Delta = 0.005416521909231871\n-- Outer Iteration 1: Had 1 CG iterations, trust bound REACHED\n   -- Obj.Reduction:  Actual = 104.01159562280304,  Predicted = 103.83203106019585  (A/P: 1.0017),  Trust Delta = 0.021666087636927484\n   -- New Objective = 638.3490347568984,  Beta Change Norm = 0.005416521909231872,  Gradient Norm = 16631.278621074023\n \n-- Outer Iteration 2: Had 1 CG iterations\n   -- Obj.Reduction:  Actual = 179.44512631038924,  Predicted = 151.14369350251079  (A/P: 1.1872),  Trust Delta = 0.022363337489596232\n   -- New Objective = 458.90390844650915,  Beta Change Norm = 0.01817583565835904,  Gradient Norm = 4703.0543311304755\n \n-- Outer Iteration 3: Had 2 CG iterations, trust bound REACHED\n   -- Obj.Reduction:  Actual = 37.61792399689938,  Predicted = 34.39331794722183  (A/P: 1.0938),  Trust Delta = 0.02781204195099454\n   -- New Objective = 421.28598444960977,  Beta Change Norm = 0.02236333748959623,  Gradient Norm = 905.4182160599846\n \n-- Outer Iteration 4: Had 2 CG iterations, trust bound REACHED\n   -- Obj.Reduction:  Actual = 6.5144079837016875,  Predicted = 6.327138497294311  (A/P: 1.0296),  Trust Delta = 0.03624256041076615\n   -- New Objective = 414.7715764659081,  Beta Change Norm = 0.02781204195099454,  Gradient Norm = 112.26601921764963\n \n-- Outer Iteration 5: Had 3 CG iterations, trust bound REACHED\n   -- Obj.Reduction:  Actual = 2.0941876059864057,  Predicted = 2.115962162684706  (A/P: 0.9897),  Trust Delta = 0.04124389538858271\n   -- New Objective = 412.6773888599217,  Beta Change Norm = 0.03624256041076615,  Gradient Norm = 82.04016974137184\n \n-- Outer Iteration 6: Had 3 CG iterations, trust bound REACHED\n   -- Obj.Reduction:  Actual = 1.3577361276806528,  Predicted = 1.35463901532359  (A/P: 1.0023),  Trust Delta = 0.046703400229627934\n   -- New Objective = 411.319652732241,  Beta Change Norm = 0.04124389538858271,  Gradient Norm = 93.71431156699124\n \n-- Outer Iteration 7: Had 3 CG iterations, trust bound REACHED\n   -- Obj.Reduction:  Actual = 1.992240615424521,  Predicted = 1.9919146472575355  (A/P: 1.0002),  Trust Delta = 0.06310637107635879\n   -- New Objective = 409.3274121168165,  Beta Change Norm = 0.04670340022962793,  Gradient Norm = 68.41643799797993\n \n-- Outer Iteration 8: Had 3 CG iterations, trust bound REACHED\n   -- Obj.Reduction:  Actual = 2.29616386534002,  Predicted = 2.2844365899585775  (A/P: 1.0051),  Trust Delta = 0.12331808019795035\n   -- New Objective = 407.0312482514765,  Beta Change Norm = 0.06310637107635879,  Gradient Norm = 58.29512028640731\n \n-- Outer Iteration 9: Had 3 CG iterations, trust bound REACHED\n   -- Obj.Reduction:  Actual = 3.49513213383284,  Predicted = 3.4822691629544638  (A/P: 1.0037),  Trust Delta = 0.2514171463731322\n   -- New Objective = 403.53611611764364,  Beta Change Norm = 0.12331808019795037,  Gradient Norm = 82.57317953698546\n \n-- Outer Iteration 10: Had 4 CG iterations, trust bound REACHED\n   -- Obj.Reduction:  Actual = 7.297888273923093,  Predicted = 7.286949539590873  (A/P: 1.0015),  Trust Delta = 0.8521477273235211\n   -- New Objective = 396.23822784372055,  Beta Change Norm = 0.25141714637313217,  Gradient Norm = 70.55334585370393\n \n-- Outer Iteration 11: Had 4 CG iterations, trust bound REACHED\n   -- Obj.Reduction:  Actual = 20.920583448475497,  Predicted = 20.87884026700687  (A/P: 1.002),  Trust Delta = 2.8804680924181523\n   -- New Objective = 375.31764439524505,  Beta Change Norm = 0.8521477273235212,  Gradient Norm = 110.59248291316369\n \n-- Outer Iteration 12: Had 6 CG iterations, trust bound REACHED\n   -- Obj.Reduction:  Actual = 33.061182682561366,  Predicted = 32.750322822428004  (A/P: 1.0095),  Trust Delta = 2.9819151419407643\n   -- New Objective = 342.2564617126837,  Beta Change Norm = 2.8804680924181523,  Gradient Norm = 697.418262317252\n \n-- Outer Iteration 13: Had 1 CG iterations\n   -- Obj.Reduction:  Actual = 0.942196008458211,  Predicted = 0.9040101739846548  (A/P: 1.0422),  Trust Delta = 2.9819151419407643\n   -- New Objective = 341.3142657042255,  Beta Change Norm = 0.0025924476682929907,  Gradient Norm = 75.49709767729756\n \n-- Outer Iteration 14: Had 6 CG iterations, trust bound REACHED\n   -- Obj.Reduction:  Actual = 19.62058535636629,  Predicted = 19.250928961849205  (A/P: 1.0192),  Trust Delta = 4.571479484782467\n   -- New Objective = 321.6936803478592,  Beta Change Norm = 2.9819151419407643,  Gradient Norm = 240.7305692860861\n \n-- Outer Iteration 15: Had 1 CG iterations\n   -- Obj.Reduction:  Actual = 0.11864214671004447,  Predicted = 0.11677039808785532  (A/P: 1.016),  Trust Delta = 4.571479484782467\n   -- New Objective = 321.57503820114914,  Beta Change Norm = 9.70133526740299E-4,  Gradient Norm = 14.936982737448746\n \n-- Outer Iteration 16: Had 8 CG iterations, trust bound REACHED\n   -- Obj.Reduction:  Actual = 12.930969306868406,  Predicted = 13.358216758084769  (A/P: 0.968),  Trust Delta = 4.8922606897456555\n   -- New Objective = 308.64406889428074,  Beta Change Norm = 4.571479484782467,  Gradient Norm = 260.1570162531476\n \n-- Outer Iteration 17: Had 1 CG iterations\n   -- Obj.Reduction:  Actual = 0.13959076477448207,  Predicted = 0.13722971442132448  (A/P: 1.0172),  Trust Delta = 4.8922606897456555\n   -- New Objective = 308.50447812950625,  Beta Change Norm = 0.001054976078660067,  Gradient Norm = 13.559839421598346\n \n-- Outer Iteration 18: Had 9 CG iterations\n   -- Obj.Reduction:  Actual = 7.619333310498007,  Predicted = 7.053259543229577  (A/P: 1.0803),  Trust Delta = 4.8922606897456555\n   -- New Objective = 300.88514481900825,  Beta Change Norm = 4.148475655101127,  Gradient Norm = 122.4254797349973\n \n-- Outer Iteration 19: Had 1 CG iterations\n   -- Obj.Reduction:  Actual = 0.03356862978279196,  Predicted = 0.0332905173359453  (A/P: 1.0084),  Trust Delta = 4.8922606897456555\n   -- New Objective = 300.85157618922545,  Beta Change Norm = 5.438494896324865E-4,  Gradient Norm = 7.257737938279372\n \n-- Outer Iteration 20: Had 6 CG iterations\n   -- Obj.Reduction:  Actual = 0.11668667157073287,  Predicted = 0.11536315079881088  (A/P: 1.0115),  Trust Delta = 4.8922606897456555\n   -- New Objective = 300.7348895176547,  Beta Change Norm = 0.2505204941911843,  Gradient Norm = 2.473588682577418\n \n-- Outer Iteration 21: Had 8 CG iterations\n   -- Obj.Reduction:  Actual = 0.09338165452993508,  Predicted = 0.09271097744620233  (A/P: 1.0072),  Trust Delta = 4.8922606897456555\n   -- New Objective = 300.6415078631248,  Beta Change Norm = 0.540118969030575,  Gradient Norm = 1.484071102402248\n \n-- Outer Iteration 22: Had 5 CG iterations\n   -- Obj.Reduction:  Actual = 0.011777367766512725,  Predicted = 0.011783338781540741  (A/P: 0.9995),  Trust Delta = 4.8922606897456555\n   -- New Objective = 300.6297304953583,  Beta Change Norm = 0.11172390333899128,  Gradient Norm = 0.19333441012853766\n \n-- Outer Iteration 23: Had 9 CG iterations\n   -- Obj.Reduction:  Actual = 0.004650621033079005,  Predicted = 0.004640337886263763  (A/P: 1.0022),  Trust Delta = 4.8922606897456555\n   -- New Objective = 300.6250798743252,  Beta Change Norm = 0.13246824197168428,  Gradient Norm = 0.09266862210890837\n \n-- Outer Iteration 24: Had 5 CG iterations\n   -- Obj.Reduction:  Actual = 3.045718256089458E-5,  Predicted = 3.0458036942116255E-5  (A/P: 1.0),  Trust Delta = 4.8922606897456555\n   -- New Objective = 300.62504941714263,  Beta Change Norm = 0.005822014227480407,  Gradient Norm = 0.005581750964697484\nTermination / Convergence condition satisfied.\nSystemML Statistics:\nTotal execution time:\t\t0.190 sec.\nNumber of executed Spark inst:\t2.\n\n\n"
                }
            ], 
            "execution_count": 141
        }, 
        {
            "source": "print('LogisticRegression score: %f' % model.score(df_x_test, df_y_test))", 
            "cell_type": "code", 
            "metadata": {}, 
            "outputs": [
                {
                    "output_type": "stream", 
                    "name": "stdout", 
                    "text": "SystemML Statistics:\nTotal execution time:\t\t0.000 sec.\nNumber of executed Spark inst:\t0.\n\nSystemML Statistics:\nTotal execution time:\t\t0.002 sec.\nNumber of executed Spark inst:\t0.\n\n\nLogisticRegression score: 0.861742\n"
                }
            ], 
            "execution_count": 142
        }, 
        {
            "source": "y_pred = model.predict(df_x_test)\n", 
            "cell_type": "code", 
            "metadata": {}, 
            "outputs": [
                {
                    "output_type": "stream", 
                    "name": "stdout", 
                    "text": "SystemML Statistics:\nTotal execution time:\t\t0.000 sec.\nNumber of executed Spark inst:\t0.\n\nSystemML Statistics:\nTotal execution time:\t\t0.002 sec.\nNumber of executed Spark inst:\t0.\n\n\n"
                }
            ], 
            "execution_count": 130
        }, 
        {
            "source": "predictions = np.column_stack((np.array(df_y_test), y_pred));\nprint(predictions[:35])", 
            "cell_type": "code", 
            "metadata": {}, 
            "outputs": [
                {
                    "output_type": "stream", 
                    "name": "stdout", 
                    "text": "[[ 0.  0.]\n [ 0.  0.]\n [ 0.  0.]\n [ 0.  0.]\n [ 0.  0.]\n [ 0.  0.]\n [ 0.  0.]\n [ 0.  0.]\n [ 0.  0.]\n [ 0.  0.]\n [ 1.  0.]\n [ 0.  0.]\n [ 0.  0.]\n [ 0.  0.]\n [ 0.  0.]\n [ 1.  1.]\n [ 0.  0.]\n [ 1.  0.]\n [ 1.  1.]\n [ 0.  0.]\n [ 0.  0.]\n [ 0.  0.]\n [ 0.  0.]\n [ 0.  0.]\n [ 0.  0.]\n [ 0.  0.]\n [ 1.  1.]\n [ 0.  0.]\n [ 0.  0.]\n [ 0.  0.]\n [ 0.  0.]\n [ 0.  0.]\n [ 0.  0.]\n [ 0.  0.]\n [ 0.  0.]]\n"
                }
            ], 
            "execution_count": 133
        }
    ], 
    "metadata": {
        "kernelspec": {
            "display_name": "Python 2 with Spark 2.1", 
            "name": "python2-spark21", 
            "language": "python"
        }, 
        "language_info": {
            "mimetype": "text/x-python", 
            "nbconvert_exporter": "python", 
            "version": "2.7.14", 
            "name": "python", 
            "pygments_lexer": "ipython2", 
            "file_extension": ".py", 
            "codemirror_mode": {
                "version": 2, 
                "name": "ipython"
            }
        }
    }, 
    "nbformat": 4
}